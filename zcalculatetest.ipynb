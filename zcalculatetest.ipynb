{
 "cells": [
  {
   "cell_type": "code",
   "execution_count": 1,
   "metadata": {},
   "outputs": [
    {
     "name": "stdout",
     "output_type": "stream",
     "text": [
      "[1290.90909091 1183.33333333 1092.30769231  946.66666667  835.29411765]\n"
     ]
    }
   ],
   "source": [
    "import numpy as np\n",
    "\n",
    "z_list = np.array([0.1,0.2,0.3,0.5,0.7])\n",
    "\n",
    "print(1420/(1+z_list))"
   ]
  },
  {
   "cell_type": "code",
   "execution_count": 5,
   "metadata": {},
   "outputs": [
    {
     "name": "stdout",
     "output_type": "stream",
     "text": [
      "z: 0.1  t_tot/hr: 101254.66494773216\n",
      "z: 0.2  t_tot/hr: 92816.77620208787\n",
      "z: 0.3  t_tot/hr: 85677.02418654264\n",
      "z: 0.5  t_tot/hr: 74253.42096167029\n",
      "z: 0.7  t_tot/hr: 65517.7243779444\n"
     ]
    }
   ],
   "source": [
    "def cal_tpix(z):\n",
    "    return 48*(1+z)\n",
    "def cal_pix_area(z):\n",
    "    return (1.22*0.21*(1+z)/300*180/np.pi)**2\n",
    "\n",
    "def t_tot(z):\n",
    "    return cal_tpix(z)*20000/cal_pix_area(z)/3600\n",
    "for z in z_list:\n",
    "    print(\"z:\",z,\" t_tot/hr:\",t_tot(z))"
   ]
  },
  {
   "cell_type": "code",
   "execution_count": 7,
   "metadata": {},
   "outputs": [
    {
     "data": {
      "text/plain": [
       "82503.80106852253"
      ]
     },
     "execution_count": 7,
     "metadata": {},
     "output_type": "execute_result"
    }
   ],
   "source": [
    "(3/1.05-3/1.42)/(3/1.42)\n",
    "t_tot(0.35)"
   ]
  },
  {
   "cell_type": "code",
   "execution_count": null,
   "metadata": {},
   "outputs": [],
   "source": []
  }
 ],
 "metadata": {
  "kernelspec": {
   "display_name": "Python 3",
   "language": "python",
   "name": "python3"
  },
  "language_info": {
   "codemirror_mode": {
    "name": "ipython",
    "version": 3
   },
   "file_extension": ".py",
   "mimetype": "text/x-python",
   "name": "python",
   "nbconvert_exporter": "python",
   "pygments_lexer": "ipython3",
   "version": "3.8.10"
  },
  "orig_nbformat": 4
 },
 "nbformat": 4,
 "nbformat_minor": 2
}
